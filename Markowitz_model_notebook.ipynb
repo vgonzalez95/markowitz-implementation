{
  "nbformat": 4,
  "nbformat_minor": 0,
  "metadata": {
    "accelerator": "GPU",
    "colab": {
      "name": "Markowitz model notebook.ipynb",
      "provenance": [],
      "collapsed_sections": [],
      "include_colab_link": true
    },
    "kernelspec": {
      "display_name": "Python 3",
      "name": "python3"
    }
  },
  "cells": [
    {
      "cell_type": "markdown",
      "metadata": {
        "id": "view-in-github",
        "colab_type": "text"
      },
      "source": [
        "<a href=\"https://colab.research.google.com/github/vgonzalez95/markowitz-implementation/blob/main/Markowitz_model_notebook.ipynb\" target=\"_parent\"><img src=\"https://colab.research.google.com/assets/colab-badge.svg\" alt=\"Open In Colab\"/></a>"
      ]
    },
    {
      "cell_type": "code",
      "metadata": {
        "id": "KRiX32t93uGL"
      },
      "source": [
        "import pandas as pd\n",
        "import requests\n",
        "import numpy as np\n",
        "import matplotlib.pyplot as plt\n",
        "import seaborn as sns"
      ],
      "execution_count": null,
      "outputs": []
    },
    {
      "cell_type": "code",
      "metadata": {
        "id": "sM2LW0fYBY9t"
      },
      "source": [
        "sns.set()"
      ],
      "execution_count": null,
      "outputs": []
    },
    {
      "cell_type": "code",
      "metadata": {
        "id": "alWLY-Uk4k2y"
      },
      "source": [
        "def get_df(ticker):\n",
        "  endpoint = f'https://financialmodelingprep.com/api/v3/historical-price-full/{ticker}?serietype=line&apikey=fdc87acc05b63069ece12db7d63a9541'\n",
        "  x = requests.get(endpoint).json().get('historical')\n",
        "  df = pd.DataFrame(x)\n",
        "  df['date'] = pd.to_datetime(df['date'])\n",
        "  df.rename(columns={'close': ticker}, inplace=True)\n",
        "  df.set_index('date', inplace=True)\n",
        "  return df"
      ],
      "execution_count": null,
      "outputs": []
    },
    {
      "cell_type": "code",
      "metadata": {
        "id": "uSlZbq8475vy"
      },
      "source": [
        "def get_full_df(tickers):\n",
        "  return pd.concat([get_df(t) for t in tickers], axis=1).dropna()"
      ],
      "execution_count": null,
      "outputs": []
    },
    {
      "cell_type": "markdown",
      "metadata": {
        "id": "o2UCt2P2Iuvx"
      },
      "source": [
        "#### En esta celda se definen los tickers que conforman nuestro portafolio"
      ]
    },
    {
      "cell_type": "code",
      "metadata": {
        "id": "zQKHLR2z8HYR"
      },
      "source": [
        "tickers = ['LNG', 'SPY','AMZN', 'GOOG']\n",
        "full_df = get_full_df(tickers)"
      ],
      "execution_count": null,
      "outputs": []
    },
    {
      "cell_type": "code",
      "metadata": {
        "id": "I1ztOOJZ4Tzd"
      },
      "source": [
        "# Resample the full dataframe to monthly timeframe\n",
        "monthly_df = full_df.resample('BMS').first()\n",
        "\n",
        "# Calculate daily returns of stocks\n",
        "returns_daily = full_df.pct_change()\n",
        "\n",
        "# Calculate monthly returns of the stocks\n",
        "returns_monthly = monthly_df.pct_change().dropna()"
      ],
      "execution_count": null,
      "outputs": []
    },
    {
      "cell_type": "code",
      "metadata": {
        "id": "lzYnyr7WayUX"
      },
      "source": [
        "# returns_daily.hist(bins=10)"
      ],
      "execution_count": null,
      "outputs": []
    },
    {
      "cell_type": "code",
      "metadata": {
        "colab": {
          "base_uri": "https://localhost:8080/"
        },
        "id": "vvlhrraH-T3f",
        "outputId": "6f8ca7b0-b949-4e5f-daca-3b090eaeca17"
      },
      "source": [
        "# Daily covariance of stocks (for each monthly period)\n",
        "covariances = {}\n",
        "rtd_idx = returns_daily.index\n",
        "for i in returns_monthly.index:    \n",
        "    # Mask daily returns for each month and year, and calculate covariance\n",
        "    mask = (rtd_idx.month == i.month) & (rtd_idx.year == i.year)\n",
        "    \n",
        "    # Use the mask to get daily returns for the current month and year of monthy returns index\n",
        "    covariances[i] = returns_daily[mask].cov()\n",
        "\n",
        "print(covariances[i])"
      ],
      "execution_count": null,
      "outputs": [
        {
          "output_type": "stream",
          "text": [
            "           LNG       SPY      AMZN      GOOG\n",
            "LNG   0.000642 -0.000151 -0.000222 -0.000038\n",
            "SPY  -0.000151  0.000194  0.000243  0.000226\n",
            "AMZN -0.000222  0.000243  0.000443  0.000362\n",
            "GOOG -0.000038  0.000226  0.000362  0.000560\n"
          ],
          "name": "stdout"
        }
      ]
    },
    {
      "cell_type": "code",
      "metadata": {
        "colab": {
          "base_uri": "https://localhost:8080/"
        },
        "id": "6W-0g1M4_SEC",
        "outputId": "c826799a-e8eb-488c-ee73-fc70602cfe85"
      },
      "source": [
        "portfolio_returns, portfolio_volatility, portfolio_weights = {}, {}, {}\n",
        "\n",
        "# Get portfolio performances at each month\n",
        "for date in sorted(covariances.keys()):\n",
        "    cov = covariances[date]\n",
        "    for portfolio in range(10000):\n",
        "        weights = np.random.random(len(tickers))\n",
        "        weights /= np.sum(weights) # /= divides weights by their sum to normalize\n",
        "        returns = np.dot(weights, returns_monthly.loc[date])\n",
        "        volatility = np.sqrt(np.dot(weights.T, np.dot(cov, weights)))\n",
        "        portfolio_returns.setdefault(date, []).append(round(returns,4))\n",
        "        portfolio_volatility.setdefault(date, []).append(round(volatility,4))\n",
        "        portfolio_weights.setdefault(date, []).append(np.round(weights, decimals=4))\n",
        "        \n",
        "print(portfolio_weights[date][0])"
      ],
      "execution_count": null,
      "outputs": [
        {
          "output_type": "stream",
          "text": [
            "[0.0667 0.2214 0.3911 0.3208]\n"
          ],
          "name": "stdout"
        }
      ]
    },
    {
      "cell_type": "code",
      "metadata": {
        "colab": {
          "base_uri": "https://localhost:8080/"
        },
        "id": "nPDEvAmU_4kh",
        "outputId": "c0f68053-3dfb-4ea8-b9ff-4606ae67c572"
      },
      "source": [
        "# Get latest date of available data\n",
        "date = sorted(covariances.keys())[-1]  \n",
        "\n",
        "# Plot efficient frontier\n",
        "# warning: this can take at least 10s for the plot to execute...\n",
        "plt.scatter(x=portfolio_volatility[date], y=portfolio_returns[date],  alpha=0.5)\n",
        "plt.xlabel('Volatility')\n",
        "plt.ylabel('Returns')\n",
        "plt.show()"
      ],
      "execution_count": null,
      "outputs": [
        {
          "output_type": "display_data",
          "data": {
            "image/png": "[encoded data removed]",
            "text/plain": [
              "<Figure size 432x288 with 1 Axes>"
            ]
          },
          "metadata": {
            "tags": []
          }
        }
      ]
    },
    {
      "cell_type": "code",
      "metadata": {
        "id": "e348bA2DGDZ4"
      },
      "source": [
        "np_portfolio_volatility = np.array(portfolio_volatility[date])"
      ],
      "execution_count": null,
      "outputs": []
    },
    {
      "cell_type": "code",
      "metadata": {
        "id": "e7dz65jgKQ4W"
      },
      "source": [
        "combined = {'volatility':portfolio_volatility[date], 'returns':portfolio_returns[date], 'weights':portfolio_weights[date]}"
      ],
      "execution_count": null,
      "outputs": []
    },
    {
      "cell_type": "code",
      "metadata": {
        "id": "SdQ2KKwfLQNf"
      },
      "source": [
        "combined_df = pd.DataFrame(combined)\n",
        "combined_df.sort_values(by=['volatility', 'returns'], ascending=[True,False], inplace=True)\n",
        "combined_df.drop_duplicates(subset=['volatility'], keep='first', inplace=True)\n"
      ],
      "execution_count": null,
      "outputs": []
    },
    {
      "cell_type": "code",
      "metadata": {
        "colab": {
          "base_uri": "https://localhost:8080/"
        },
        "id": "P2VPX-j8SIKL",
        "outputId": "9235b820-ad26-49e6-87df-e6653184bb7e"
      },
      "source": [
        "combined_df[tickers] = pd.DataFrame(combined_df.weights.to_list(), index=combined_df.index)\n",
        "combined_df.drop('weights',axis=1, inplace=True)\n",
        "combined_df.plot.scatter(x='volatility', y ='returns')"
      ],
      "execution_count": null,
      "outputs": [
        {
          "output_type": "stream",
          "text": [
            "*c* argument looks like a single numeric RGB or RGBA sequence, which should be avoided as value-mapping will have precedence in case its length matches with *x* & *y*.  Please use the *color* keyword-argument or provide a 2-D array with a single row if you intend to specify the same RGB or RGBA value for all points.\n"
          ],
          "name": "stderr"
        },
        {
          "output_type": "execute_result",
          "data": {
            "text/plain": [
              "<matplotlib.axes._subplots.AxesSubplot at 0x7f27b36e1090>"
            ]
          },
          "metadata": {
            "tags": []
          },
          "execution_count": 30
        },
        {
          "output_type": "display_data",
          "data": {
            "image/png": "[encoded data removed]",
            "text/plain": [
              "<Figure size 432x288 with 1 Axes>"
            ]
          },
          "metadata": {
            "tags": []
          }
        }
      ]
    },
    {
      "cell_type": "code",
      "metadata": {
        "id": "9xdDMLINWdQH",
        "colab": {
          "base_uri": "https://localhost:8080/",
          "height": 419
        },
        "outputId": "36d3f364-0b53-4d09-afbf-bc87ff3d38ae"
      },
      "source": [
        "combined_df"
      ],
      "execution_count": null,
      "outputs": [
        {
          "output_type": "execute_result",
          "data": {
            "text/html": [
              "<div>\n",
              "<style scoped>\n",
              "    .dataframe tbody tr th:only-of-type {\n",
              "        vertical-align: middle;\n",
              "    }\n",
              "\n",
              "    .dataframe tbody tr th {\n",
              "        vertical-align: top;\n",
              "    }\n",
              "\n",
              "    .dataframe thead th {\n",
              "        text-align: right;\n",
              "    }\n",
              "</style>\n",
              "<table border=\"1\" class=\"dataframe\">\n",
              "  <thead>\n",
              "    <tr style=\"text-align: right;\">\n",
              "      <th></th>\n",
              "      <th>volatility</th>\n",
              "      <th>returns</th>\n",
              "      <th>LNG</th>\n",
              "      <th>SPY</th>\n",
              "      <th>AMZN</th>\n",
              "      <th>GOOG</th>\n",
              "    </tr>\n",
              "  </thead>\n",
              "  <tbody>\n",
              "    <tr>\n",
              "      <th>2221</th>\n",
              "      <td>0.0097</td>\n",
              "      <td>0.0437</td>\n",
              "      <td>0.3286</td>\n",
              "      <td>0.5863</td>\n",
              "      <td>0.0737</td>\n",
              "      <td>0.0115</td>\n",
              "    </tr>\n",
              "    <tr>\n",
              "      <th>2315</th>\n",
              "      <td>0.0098</td>\n",
              "      <td>0.0507</td>\n",
              "      <td>0.2909</td>\n",
              "      <td>0.6436</td>\n",
              "      <td>0.0100</td>\n",
              "      <td>0.0556</td>\n",
              "    </tr>\n",
              "    <tr>\n",
              "      <th>1855</th>\n",
              "      <td>0.0099</td>\n",
              "      <td>0.0466</td>\n",
              "      <td>0.3480</td>\n",
              "      <td>0.5506</td>\n",
              "      <td>0.0663</td>\n",
              "      <td>0.0351</td>\n",
              "    </tr>\n",
              "    <tr>\n",
              "      <th>2892</th>\n",
              "      <td>0.0100</td>\n",
              "      <td>0.0513</td>\n",
              "      <td>0.3838</td>\n",
              "      <td>0.5719</td>\n",
              "      <td>0.0242</td>\n",
              "      <td>0.0200</td>\n",
              "    </tr>\n",
              "    <tr>\n",
              "      <th>3668</th>\n",
              "      <td>0.0101</td>\n",
              "      <td>0.0517</td>\n",
              "      <td>0.4044</td>\n",
              "      <td>0.5577</td>\n",
              "      <td>0.0247</td>\n",
              "      <td>0.0132</td>\n",
              "    </tr>\n",
              "    <tr>\n",
              "      <th>...</th>\n",
              "      <td>...</td>\n",
              "      <td>...</td>\n",
              "      <td>...</td>\n",
              "      <td>...</td>\n",
              "      <td>...</td>\n",
              "      <td>...</td>\n",
              "    </tr>\n",
              "    <tr>\n",
              "      <th>981</th>\n",
              "      <td>0.0211</td>\n",
              "      <td>0.0815</td>\n",
              "      <td>0.0634</td>\n",
              "      <td>0.0335</td>\n",
              "      <td>0.0670</td>\n",
              "      <td>0.8362</td>\n",
              "    </tr>\n",
              "    <tr>\n",
              "      <th>2936</th>\n",
              "      <td>0.0214</td>\n",
              "      <td>0.0641</td>\n",
              "      <td>0.0142</td>\n",
              "      <td>0.0392</td>\n",
              "      <td>0.1829</td>\n",
              "      <td>0.7637</td>\n",
              "    </tr>\n",
              "    <tr>\n",
              "      <th>5389</th>\n",
              "      <td>0.0217</td>\n",
              "      <td>0.0862</td>\n",
              "      <td>0.0074</td>\n",
              "      <td>0.1222</td>\n",
              "      <td>0.0079</td>\n",
              "      <td>0.8624</td>\n",
              "    </tr>\n",
              "    <tr>\n",
              "      <th>7716</th>\n",
              "      <td>0.0219</td>\n",
              "      <td>0.0718</td>\n",
              "      <td>0.0056</td>\n",
              "      <td>0.0455</td>\n",
              "      <td>0.1311</td>\n",
              "      <td>0.8178</td>\n",
              "    </tr>\n",
              "    <tr>\n",
              "      <th>6463</th>\n",
              "      <td>0.0229</td>\n",
              "      <td>0.0788</td>\n",
              "      <td>0.9115</td>\n",
              "      <td>0.0128</td>\n",
              "      <td>0.0087</td>\n",
              "      <td>0.0670</td>\n",
              "    </tr>\n",
              "  </tbody>\n",
              "</table>\n",
              "<p>116 rows × 6 columns</p>\n",
              "</div>"
            ],
            "text/plain": [
              "      volatility  returns     LNG     SPY    AMZN    GOOG\n",
              "2221      0.0097   0.0437  0.3286  0.5863  0.0737  0.0115\n",
              "2315      0.0098   0.0507  0.2909  0.6436  0.0100  0.0556\n",
              "1855      0.0099   0.0466  0.3480  0.5506  0.0663  0.0351\n",
              "2892      0.0100   0.0513  0.3838  0.5719  0.0242  0.0200\n",
              "3668      0.0101   0.0517  0.4044  0.5577  0.0247  0.0132\n",
              "...          ...      ...     ...     ...     ...     ...\n",
              "981       0.0211   0.0815  0.0634  0.0335  0.0670  0.8362\n",
              "2936      0.0214   0.0641  0.0142  0.0392  0.1829  0.7637\n",
              "5389      0.0217   0.0862  0.0074  0.1222  0.0079  0.8624\n",
              "7716      0.0219   0.0718  0.0056  0.0455  0.1311  0.8178\n",
              "6463      0.0229   0.0788  0.9115  0.0128  0.0087  0.0670\n",
              "\n",
              "[116 rows x 6 columns]"
            ]
          },
          "metadata": {
            "tags": []
          },
          "execution_count": 31
        }
      ]
    },
    {
      "cell_type": "code",
      "metadata": {
        "id": "t8DrMdfnvKCV"
      },
      "source": [
        "# from google.colab import files\n",
        "# files.download('combined.csv')"
      ],
      "execution_count": null,
      "outputs": []
    }
  ]
}